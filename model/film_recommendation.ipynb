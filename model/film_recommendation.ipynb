{
 "cells": [
  {
   "cell_type": "code",
   "execution_count": 37,
   "metadata": {
    "collapsed": true
   },
   "outputs": [],
   "source": [
    "from typing import Union\n",
    "\n",
    "import numpy as np\n",
    "import pandas as pd\n",
    "from sklearn.feature_extraction.text import TfidfVectorizer\n",
    "from sklearn.metrics.pairwise import cosine_similarity"
   ]
  },
  {
   "cell_type": "code",
   "execution_count": 38,
   "outputs": [],
   "source": [
    "# Retrieved from https://grouplens.org/datasets/movielens/\n",
    "\n",
    "movies = pd.read_csv(\"dataset/ml-latest/movies.csv\")\n",
    "ratings = pd.read_csv(\"dataset/ml-latest/ratings.csv\")"
   ],
   "metadata": {
    "collapsed": false,
    "pycharm": {
     "name": "#%%\n"
    }
   }
  },
  {
   "cell_type": "code",
   "execution_count": 39,
   "outputs": [
    {
     "data": {
      "text/plain": "   movieId                               title  \\\n0        1                    Toy Story (1995)   \n1        2                      Jumanji (1995)   \n2        3             Grumpier Old Men (1995)   \n3        4            Waiting to Exhale (1995)   \n4        5  Father of the Bride Part II (1995)   \n\n                                        genres  \n0  Adventure|Animation|Children|Comedy|Fantasy  \n1                   Adventure|Children|Fantasy  \n2                               Comedy|Romance  \n3                         Comedy|Drama|Romance  \n4                                       Comedy  ",
      "text/html": "<div>\n<style scoped>\n    .dataframe tbody tr th:only-of-type {\n        vertical-align: middle;\n    }\n\n    .dataframe tbody tr th {\n        vertical-align: top;\n    }\n\n    .dataframe thead th {\n        text-align: right;\n    }\n</style>\n<table border=\"1\" class=\"dataframe\">\n  <thead>\n    <tr style=\"text-align: right;\">\n      <th></th>\n      <th>movieId</th>\n      <th>title</th>\n      <th>genres</th>\n    </tr>\n  </thead>\n  <tbody>\n    <tr>\n      <th>0</th>\n      <td>1</td>\n      <td>Toy Story (1995)</td>\n      <td>Adventure|Animation|Children|Comedy|Fantasy</td>\n    </tr>\n    <tr>\n      <th>1</th>\n      <td>2</td>\n      <td>Jumanji (1995)</td>\n      <td>Adventure|Children|Fantasy</td>\n    </tr>\n    <tr>\n      <th>2</th>\n      <td>3</td>\n      <td>Grumpier Old Men (1995)</td>\n      <td>Comedy|Romance</td>\n    </tr>\n    <tr>\n      <th>3</th>\n      <td>4</td>\n      <td>Waiting to Exhale (1995)</td>\n      <td>Comedy|Drama|Romance</td>\n    </tr>\n    <tr>\n      <th>4</th>\n      <td>5</td>\n      <td>Father of the Bride Part II (1995)</td>\n      <td>Comedy</td>\n    </tr>\n  </tbody>\n</table>\n</div>"
     },
     "execution_count": 39,
     "metadata": {},
     "output_type": "execute_result"
    }
   ],
   "source": [
    "movies.head()"
   ],
   "metadata": {
    "collapsed": false,
    "pycharm": {
     "name": "#%%\n"
    }
   }
  },
  {
   "cell_type": "code",
   "execution_count": 40,
   "outputs": [],
   "source": [
    "import re\n",
    "\n",
    "def clean_text(text: str, re_pattern: str =\"[^a-zA-Z0-9 ]\", replace_string=\"\") -> str:\n",
    "    \"\"\"\n",
    "    This method is used to replace the given regular expression pattern with the replace_string\n",
    "    :param text: the input text\n",
    "    :param re_pattern: regular expression pattern\n",
    "    :param replace_string: string to be used for replacement\n",
    "    :return: text after replacement\n",
    "    \"\"\"\n",
    "    text = re.sub(re_pattern, replace_string, text)\n",
    "    return text"
   ],
   "metadata": {
    "collapsed": false,
    "pycharm": {
     "name": "#%%\n"
    }
   }
  },
  {
   "cell_type": "code",
   "execution_count": 41,
   "outputs": [],
   "source": [
    "def find_match(text: str, re_pattern: str) -> Union[str, None]:\n",
    "    \"\"\"\n",
    "    This method is used to find the substring that matches the given regular expression pattern\n",
    "    :param text: input text\n",
    "    :param re_pattern: regular expression pattern\n",
    "    :return: The substring or None\n",
    "    \"\"\"\n",
    "    match = re.search(re_pattern, text)\n",
    "    if match:\n",
    "        return match.group(1)\n",
    "    else:\n",
    "        return None"
   ],
   "metadata": {
    "collapsed": false,
    "pycharm": {
     "name": "#%%\n"
    }
   }
  },
  {
   "cell_type": "code",
   "execution_count": 42,
   "outputs": [],
   "source": [
    "def concatenate_columns(df: pd.DataFrame, cols_list: list) -> pd.Series:\n",
    "    \"\"\"\n",
    "    This method is used to concatenate the values in multiple columns into a new column\n",
    "    :param df: input dataframe\n",
    "    :param cols_list: list of columns to be concatenated\n",
    "    :return: the new column with concatenated values (pandas series)\n",
    "    \"\"\"\n",
    "    return df[cols_list].apply(lambda row: ' '.join(row.values.astype(str)), axis=1)"
   ],
   "metadata": {
    "collapsed": false,
    "pycharm": {
     "name": "#%%\n"
    }
   }
  },
  {
   "cell_type": "code",
   "execution_count": 43,
   "outputs": [],
   "source": [
    "def clean_title(text: str, re_pattern: str) -> str:\n",
    "    \"\"\"\n",
    "    This method is used to clean the input text by replacing the regular expression with empty string\n",
    "    and removing unnecessary spaces\n",
    "    :param text: input text\n",
    "    :param re_pattern: regular expression\n",
    "    :return: cleaned text\n",
    "    \"\"\"\n",
    "    text = clean_text(text=text, re_pattern=re_pattern)\n",
    "    text = text.strip()\n",
    "    return text"
   ],
   "metadata": {
    "collapsed": false,
    "pycharm": {
     "name": "#%%\n"
    }
   }
  },
  {
   "cell_type": "code",
   "execution_count": 44,
   "outputs": [],
   "source": [
    "def find_movie(title: str, year: Union[str, int]) -> pd.DataFrame:\n",
    "    \"\"\"\n",
    "    This method is used to find a movie record in the movies dataset based on the given movie title and year values\n",
    "    :param title: movie title\n",
    "    :param year: year\n",
    "    :return: the identified movie record\n",
    "    \"\"\"\n",
    "    title = title.lower()\n",
    "    year = str(year)\n",
    "    movies_copy = movies.copy()\n",
    "    movies_copy[\"title\"] = movies_copy[\"title\"].apply(lambda text: text.lower())\n",
    "    movie_record = movies_copy[\n",
    "        (movies_copy['title'] == title) &\n",
    "        (movies_copy['year'] == year)\n",
    "        ]\n",
    "    return movie_record"
   ],
   "metadata": {
    "collapsed": false,
    "pycharm": {
     "name": "#%%\n"
    }
   }
  },
  {
   "cell_type": "code",
   "execution_count": 45,
   "outputs": [
    {
     "data": {
      "text/plain": "   movieId                        title  \\\n0        1                    Toy Story   \n1        2                      Jumanji   \n2        3             Grumpier Old Men   \n3        4            Waiting to Exhale   \n4        5  Father of the Bride Part II   \n\n                                        genres  year  \n0  Adventure Animation Children Comedy Fantasy  1995  \n1                   Adventure Children Fantasy  1995  \n2                               Comedy Romance  1995  \n3                         Comedy Drama Romance  1995  \n4                                       Comedy  1995  ",
      "text/html": "<div>\n<style scoped>\n    .dataframe tbody tr th:only-of-type {\n        vertical-align: middle;\n    }\n\n    .dataframe tbody tr th {\n        vertical-align: top;\n    }\n\n    .dataframe thead th {\n        text-align: right;\n    }\n</style>\n<table border=\"1\" class=\"dataframe\">\n  <thead>\n    <tr style=\"text-align: right;\">\n      <th></th>\n      <th>movieId</th>\n      <th>title</th>\n      <th>genres</th>\n      <th>year</th>\n    </tr>\n  </thead>\n  <tbody>\n    <tr>\n      <th>0</th>\n      <td>1</td>\n      <td>Toy Story</td>\n      <td>Adventure Animation Children Comedy Fantasy</td>\n      <td>1995</td>\n    </tr>\n    <tr>\n      <th>1</th>\n      <td>2</td>\n      <td>Jumanji</td>\n      <td>Adventure Children Fantasy</td>\n      <td>1995</td>\n    </tr>\n    <tr>\n      <th>2</th>\n      <td>3</td>\n      <td>Grumpier Old Men</td>\n      <td>Comedy Romance</td>\n      <td>1995</td>\n    </tr>\n    <tr>\n      <th>3</th>\n      <td>4</td>\n      <td>Waiting to Exhale</td>\n      <td>Comedy Drama Romance</td>\n      <td>1995</td>\n    </tr>\n    <tr>\n      <th>4</th>\n      <td>5</td>\n      <td>Father of the Bride Part II</td>\n      <td>Comedy</td>\n      <td>1995</td>\n    </tr>\n  </tbody>\n</table>\n</div>"
     },
     "execution_count": 45,
     "metadata": {},
     "output_type": "execute_result"
    }
   ],
   "source": [
    "movies[\"genres\"] = movies[\"genres\"].apply(lambda text: clean_text(text=text, replace_string=\" \"))\n",
    "\n",
    "year_re_pattern = r'\\((\\d{4})\\)'\n",
    "\n",
    "movies[\"year\"] = movies[\"title\"].apply(lambda text: find_match(text=text, re_pattern=year_re_pattern))\n",
    "\n",
    "movies[\"title\"] = movies[\"title\"].apply(lambda text: clean_title(text=text, re_pattern=year_re_pattern))\n",
    "\n",
    "movies.head()"
   ],
   "metadata": {
    "collapsed": false,
    "pycharm": {
     "name": "#%%\n"
    }
   }
  },
  {
   "cell_type": "code",
   "execution_count": 46,
   "outputs": [],
   "source": [
    "def content_based_filtering(title: str, year: Union[int, str]) -> pd.DataFrame:\n",
    "    \"\"\"\n",
    "    This method is used to perform content based filtering on the movies dataset to find 10 movies\n",
    "    that are similar to the input movie\n",
    "    :param movies:\n",
    "    :param year:\n",
    "    :param title: movie title\n",
    "    :return:\n",
    "    \"\"\"\n",
    "\n",
    "    movie_record = find_movie(title, year)\n",
    "    genres = movie_record[\"genres\"].iloc[0]\n",
    "\n",
    "    print(genres)\n",
    "\n",
    "    # concatenate title and genres into a single column for better results\n",
    "    # movies[\"title_genres\"] = concatenate_columns(movies, [\"title\", \"genres\"])\n",
    "\n",
    "    # Initialize TfidfVectorizer\n",
    "    vectorizer = TfidfVectorizer(ngram_range=(1, 2))\n",
    "    tfidf = vectorizer.fit_transform(movies[\"genres\"])\n",
    "\n",
    "    # title = clean_text(title)\n",
    "    query_vector = vectorizer.transform([genres])\n",
    "    similarity = cosine_similarity(query_vector, tfidf).flatten()\n",
    "    indices = np.argpartition(similarity, -10)[-10: ]\n",
    "    result = movies.iloc[indices].iloc[::-1]\n",
    "    return result"
   ],
   "metadata": {
    "collapsed": false,
    "pycharm": {
     "name": "#%%\n"
    }
   }
  },
  {
   "cell_type": "code",
   "execution_count": 47,
   "outputs": [],
   "source": [
    "def collaborative_filtering(title: str, year: Union[int, str]) -> pd.DataFrame:\n",
    "    \"\"\"\n",
    "    This method is used to perform collaborative filtering on the movies and ratings dataset\n",
    "    to find 10 movies that are similar to the given movie\n",
    "    :param title: movie title\n",
    "    :param year: movie release year\n",
    "    :return: dataframe with 10 recommended movies\n",
    "    \"\"\"\n",
    "    good_rating_threshold = 2.5\n",
    "    movies_liked_by_similar_users_percentage = 0.1\n",
    "    movie_record = find_movie(title, year)\n",
    "    movie_id = movie_record[\"movieId\"].iloc[0]\n",
    "\n",
    "    # Find the other users who liked the given movie. Call them similar_users\n",
    "    similar_users = ratings[\n",
    "        (ratings[\"movieId\"] == movie_id) &\n",
    "        (ratings['rating']> good_rating_threshold)\n",
    "    ][\"userId\"].unique()\n",
    "\n",
    "    # Find the other movies liked by similar_users - call them similar_users_records\n",
    "    similar_users_records = ratings[\n",
    "        (ratings[\"userId\"].isin(similar_users)) &\n",
    "        (ratings[\"rating\"] > good_rating_threshold)\n",
    "    ][\"movieId\"]\n",
    "    \n",
    "    # Calculate the percentage of how many users in similar_users liked each movie\n",
    "    # Get the number of users liked each movie.\n",
    "    # Divide the number by the number of users.\n",
    "    similar_users_records = similar_users_records.value_counts() / len(similar_users)\n",
    "\n",
    "    # Find the movies liked by more than 10 percentage of the similar users\n",
    "    similar_users_records = similar_users_records[similar_users_records > movies_liked_by_similar_users_percentage]\n",
    "\n",
    "    # Find the other users who liked the movies that are liked by similar_users - call them all_users\n",
    "    all_users = ratings[\n",
    "        (ratings[\"movieId\"].isin(similar_users_records.index)) &\n",
    "        (ratings[\"rating\"] > good_rating_threshold)\n",
    "    ]\n",
    "\n",
    "    # Calculate the percentage of how many users in the whole dataset liked each movie\n",
    "    all_users_records = all_users[\"movieId\"].value_counts() / len(all_users[\"userId\"].unique())\n",
    "\n",
    "    records_percentages = pd.concat([similar_users_records, all_users_records], axis=1)\n",
    "\n",
    "    records_percentages.columns = [\"similar\", \"all\"]\n",
    "\n",
    "    records_percentages[\"score\"] = records_percentages[\"similar\"]/records_percentages[\"all\"]\n",
    "\n",
    "    records_percentages = records_percentages.sort_values(\"score\", ascending=False)\n",
    "\n",
    "    recommendations = records_percentages.head(100).merge(movies, left_index=True, right_on=\"movieId\")\n",
    "\n",
    "    recommendations = recommendations.loc[:, [\"title\", \"year\", \"genres\"]]\n",
    "    return recommendations"
   ],
   "metadata": {
    "collapsed": false,
    "pycharm": {
     "name": "#%%\n"
    }
   }
  },
  {
   "cell_type": "code",
   "execution_count": 48,
   "outputs": [
    {
     "name": "stdout",
     "output_type": "stream",
     "text": [
      "                                     title  year  \\\n",
      "14108                      Sherlock Holmes  2009   \n",
      "17476   Sherlock Holmes: A Game of Shadows  2011   \n",
      "14737  Prince of Persia: The Sands of Time  2010   \n",
      "15057                     Expendables, The  2010   \n",
      "14811                          A-Team, The  2010   \n",
      "20028                       Wolverine, The  2013   \n",
      "15414                                  Red  2010   \n",
      "17183                           Real Steel  2011   \n",
      "19027                         Jack Reacher  2012   \n",
      "25125                    X-Men: Apocalypse  2016   \n",
      "\n",
      "                                               genres  \n",
      "14108                   Action Crime Mystery Thriller  \n",
      "17476  Action Adventure Comedy Crime Mystery Thriller  \n",
      "14737           Action Adventure Fantasy Romance IMAX  \n",
      "15057                       Action Adventure Thriller  \n",
      "14811                          Action Comedy Thriller  \n",
      "20028                 Action Adventure Fantasy Sci Fi  \n",
      "15414                                   Action Comedy  \n",
      "17183                        Action Drama Sci Fi IMAX  \n",
      "19027                           Action Crime Thriller  \n",
      "25125                 Action Adventure Fantasy Sci Fi  \n"
     ]
    }
   ],
   "source": [
    "recommended_movies = collaborative_filtering(\"sherlock holmes\", 2009)\n",
    "print(recommended_movies.head(10))"
   ],
   "metadata": {
    "collapsed": false,
    "pycharm": {
     "name": "#%%\n"
    }
   }
  },
  {
   "cell_type": "code",
   "execution_count": 49,
   "outputs": [
    {
     "name": "stdout",
     "output_type": "stream",
     "text": [
      "Action Crime Mystery Thriller\n"
     ]
    },
    {
     "data": {
      "text/plain": "       movieId                          title                         genres  \\\n29597   133923    Bulldog Drummond Comes Back  Action Crime Mystery Thriller   \n62162   204602                   Fly By Night  Action Crime Mystery Thriller   \n71458   229961                Last Three Days  Action Crime Mystery Thriller   \n81388   273129                         Memory  Action Crime Mystery Thriller   \n34356   144592                    Overheard 3  Action Crime Mystery Thriller   \n84353   281828                  Paradise City  Action Crime Mystery Thriller   \n18709    97742                     Alex Cross  Action Crime Mystery Thriller   \n17465    91509  Fire of Conscience (For lung)  Action Crime Mystery Thriller   \n33256   142162                     The Payoff  Action Crime Mystery Thriller   \n61746   203683              Killers Anonymous  Action Crime Mystery Thriller   \n\n       year  \n29597  1937  \n62162  2019  \n71458  2020  \n81388  2022  \n34356  2014  \n84353  2022  \n18709  2012  \n17465  2010  \n33256  1942  \n61746  2019  ",
      "text/html": "<div>\n<style scoped>\n    .dataframe tbody tr th:only-of-type {\n        vertical-align: middle;\n    }\n\n    .dataframe tbody tr th {\n        vertical-align: top;\n    }\n\n    .dataframe thead th {\n        text-align: right;\n    }\n</style>\n<table border=\"1\" class=\"dataframe\">\n  <thead>\n    <tr style=\"text-align: right;\">\n      <th></th>\n      <th>movieId</th>\n      <th>title</th>\n      <th>genres</th>\n      <th>year</th>\n    </tr>\n  </thead>\n  <tbody>\n    <tr>\n      <th>29597</th>\n      <td>133923</td>\n      <td>Bulldog Drummond Comes Back</td>\n      <td>Action Crime Mystery Thriller</td>\n      <td>1937</td>\n    </tr>\n    <tr>\n      <th>62162</th>\n      <td>204602</td>\n      <td>Fly By Night</td>\n      <td>Action Crime Mystery Thriller</td>\n      <td>2019</td>\n    </tr>\n    <tr>\n      <th>71458</th>\n      <td>229961</td>\n      <td>Last Three Days</td>\n      <td>Action Crime Mystery Thriller</td>\n      <td>2020</td>\n    </tr>\n    <tr>\n      <th>81388</th>\n      <td>273129</td>\n      <td>Memory</td>\n      <td>Action Crime Mystery Thriller</td>\n      <td>2022</td>\n    </tr>\n    <tr>\n      <th>34356</th>\n      <td>144592</td>\n      <td>Overheard 3</td>\n      <td>Action Crime Mystery Thriller</td>\n      <td>2014</td>\n    </tr>\n    <tr>\n      <th>84353</th>\n      <td>281828</td>\n      <td>Paradise City</td>\n      <td>Action Crime Mystery Thriller</td>\n      <td>2022</td>\n    </tr>\n    <tr>\n      <th>18709</th>\n      <td>97742</td>\n      <td>Alex Cross</td>\n      <td>Action Crime Mystery Thriller</td>\n      <td>2012</td>\n    </tr>\n    <tr>\n      <th>17465</th>\n      <td>91509</td>\n      <td>Fire of Conscience (For lung)</td>\n      <td>Action Crime Mystery Thriller</td>\n      <td>2010</td>\n    </tr>\n    <tr>\n      <th>33256</th>\n      <td>142162</td>\n      <td>The Payoff</td>\n      <td>Action Crime Mystery Thriller</td>\n      <td>1942</td>\n    </tr>\n    <tr>\n      <th>61746</th>\n      <td>203683</td>\n      <td>Killers Anonymous</td>\n      <td>Action Crime Mystery Thriller</td>\n      <td>2019</td>\n    </tr>\n  </tbody>\n</table>\n</div>"
     },
     "execution_count": 49,
     "metadata": {},
     "output_type": "execute_result"
    }
   ],
   "source": [
    "content_based_filtering(\"sherlock holmes\", 2009)"
   ],
   "metadata": {
    "collapsed": false,
    "pycharm": {
     "name": "#%%\n"
    }
   }
  }
 ],
 "metadata": {
  "kernelspec": {
   "display_name": "Python 3",
   "language": "python",
   "name": "python3"
  },
  "language_info": {
   "codemirror_mode": {
    "name": "ipython",
    "version": 2
   },
   "file_extension": ".py",
   "mimetype": "text/x-python",
   "name": "python",
   "nbconvert_exporter": "python",
   "pygments_lexer": "ipython2",
   "version": "2.7.6"
  }
 },
 "nbformat": 4,
 "nbformat_minor": 0
}