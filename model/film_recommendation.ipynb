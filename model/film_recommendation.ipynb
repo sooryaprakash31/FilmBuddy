{
 "cells": [
  {
   "cell_type": "code",
   "execution_count": 177,
   "metadata": {
    "collapsed": true
   },
   "outputs": [],
   "source": [
    "import pandas as pd\n",
    "from sklearn.feature_extraction.text import TfidfVectorizer\n",
    "from sklearn.metrics.pairwise import cosine_similarity\n",
    "import numpy as np"
   ]
  },
  {
   "cell_type": "code",
   "execution_count": 178,
   "outputs": [],
   "source": [
    "movies = pd.read_csv(\"dataset/ml-latest/movies.csv\")"
   ],
   "metadata": {
    "collapsed": false,
    "pycharm": {
     "name": "#%%\n"
    }
   }
  },
  {
   "cell_type": "code",
   "execution_count": null,
   "outputs": [],
   "source": [
    "movies.head()"
   ],
   "metadata": {
    "collapsed": false,
    "pycharm": {
     "name": "#%%\n",
     "is_executing": true
    }
   }
  },
  {
   "cell_type": "code",
   "execution_count": 180,
   "outputs": [],
   "source": [
    "import re\n",
    "\n",
    "def clean_text(text, replace_character=\"\"):\n",
    "    \"\"\"\n",
    "    This method removes the unwanted characters and\n",
    "    :param replace_character:\n",
    "    :param text:\n",
    "    :return:\n",
    "    \"\"\"\n",
    "    text = re.sub(\"[^a-zA-Z0-9 ]\", replace_character, text)\n",
    "    return text"
   ],
   "metadata": {
    "collapsed": false,
    "pycharm": {
     "name": "#%%\n"
    }
   }
  },
  {
   "cell_type": "code",
   "execution_count": null,
   "outputs": [],
   "source": [
    "movies[\"genres\"] = movies[\"genres\"].apply(lambda text: clean_text(text=text, replace_character=\" \"))\n",
    "movies.head()"
   ],
   "metadata": {
    "collapsed": false,
    "pycharm": {
     "name": "#%%\n",
     "is_executing": true
    }
   }
  },
  {
   "cell_type": "code",
   "execution_count": 182,
   "outputs": [],
   "source": [
    "def concatenate_columns(df: pd.DataFrame, cols_list: list) -> pd.Series:\n",
    "    \"\"\"\n",
    "    This method is used to concatenate the values in multiple columns into a single column\n",
    "    :param df: Dataframe\n",
    "    :param cols_list: The list columns to be concatenated\n",
    "    :return: Series\n",
    "    \"\"\"\n",
    "    return df[cols_list].apply(lambda row: ' '.join(row.values.astype(str)), axis=1)"
   ],
   "metadata": {
    "collapsed": false,
    "pycharm": {
     "name": "#%%\n"
    }
   }
  },
  {
   "cell_type": "code",
   "execution_count": 183,
   "outputs": [],
   "source": [
    "# concatenate title and genres into a single column for better results\n",
    "movies[\"title_genres\"] = concatenate_columns(movies, [\"title\", \"genres\"])"
   ],
   "metadata": {
    "collapsed": false,
    "pycharm": {
     "name": "#%%\n"
    }
   }
  },
  {
   "cell_type": "code",
   "execution_count": 184,
   "outputs": [],
   "source": [
    "# clean title_genres and title columns\n",
    "movies[\"clean_title_genres\"] = movies[\"title_genres\"].apply(clean_text)\n",
    "movies[\"clean_title\"] = movies[\"title\"].apply(clean_text)"
   ],
   "metadata": {
    "collapsed": false,
    "pycharm": {
     "name": "#%%\n"
    }
   }
  },
  {
   "cell_type": "code",
   "execution_count": null,
   "outputs": [],
   "source": [
    "movies.head()"
   ],
   "metadata": {
    "collapsed": false,
    "pycharm": {
     "name": "#%%\n",
     "is_executing": true
    }
   }
  },
  {
   "cell_type": "code",
   "execution_count": 186,
   "outputs": [],
   "source": [
    "\n",
    "# Initialize TfidfVectorizer\n",
    "vectorizer = TfidfVectorizer(ngram_range=(1, 4))\n",
    "\n",
    "tfidf = vectorizer.fit_transform(movies[\"clean_title_genres\"])"
   ],
   "metadata": {
    "collapsed": false,
    "pycharm": {
     "name": "#%%\n"
    }
   }
  },
  {
   "cell_type": "code",
   "execution_count": 187,
   "outputs": [],
   "source": [
    "def search(title):\n",
    "    \"\"\"\n",
    "    This method is used to return 5 similar movies to the given movie\n",
    "    :param title: movie title\n",
    "    :return: dataframe with the 5 similar movies\n",
    "    \"\"\"\n",
    "    title = clean_text(title)\n",
    "    query_vector = vectorizer.transform([title])\n",
    "    similarity = cosine_similarity(query_vector, tfidf).flatten()\n",
    "    indices = np.argpartition(similarity, -5)[-5: ]\n",
    "    result = movies.iloc[indices].iloc[::-1]\n",
    "    return result"
   ],
   "metadata": {
    "collapsed": false,
    "pycharm": {
     "name": "#%%\n"
    }
   }
  },
  {
   "cell_type": "code",
   "execution_count": null,
   "outputs": [],
   "source": [
    "search(\"The blind side\")"
   ],
   "metadata": {
    "collapsed": false,
    "pycharm": {
     "name": "#%%\n",
     "is_executing": true
    }
   }
  }
 ],
 "metadata": {
  "kernelspec": {
   "display_name": "Python 3",
   "language": "python",
   "name": "python3"
  },
  "language_info": {
   "codemirror_mode": {
    "name": "ipython",
    "version": 2
   },
   "file_extension": ".py",
   "mimetype": "text/x-python",
   "name": "python",
   "nbconvert_exporter": "python",
   "pygments_lexer": "ipython2",
   "version": "2.7.6"
  }
 },
 "nbformat": 4,
 "nbformat_minor": 0
}