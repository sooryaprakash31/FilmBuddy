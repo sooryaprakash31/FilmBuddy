{
 "cells": [
  {
   "cell_type": "code",
   "execution_count": 817,
   "metadata": {
    "collapsed": true
   },
   "outputs": [],
   "source": [
    "from typing import Union\n",
    "\n",
    "import numpy as np\n",
    "import pandas as pd\n",
    "from sklearn.feature_extraction.text import TfidfVectorizer\n",
    "from sklearn.metrics.pairwise import cosine_similarity"
   ]
  },
  {
   "cell_type": "code",
   "execution_count": 818,
   "outputs": [],
   "source": [
    "movies = pd.read_csv(\"dataset/ml-latest/movies.csv\")\n",
    "ratings = pd.read_csv(\"dataset/ml-latest/ratings.csv\")"
   ],
   "metadata": {
    "collapsed": false,
    "pycharm": {
     "name": "#%%\n"
    }
   }
  },
  {
   "cell_type": "code",
   "execution_count": 819,
   "outputs": [
    {
     "data": {
      "text/plain": "   movieId                               title  \\\n0        1                    Toy Story (1995)   \n1        2                      Jumanji (1995)   \n2        3             Grumpier Old Men (1995)   \n3        4            Waiting to Exhale (1995)   \n4        5  Father of the Bride Part II (1995)   \n\n                                        genres  \n0  Adventure|Animation|Children|Comedy|Fantasy  \n1                   Adventure|Children|Fantasy  \n2                               Comedy|Romance  \n3                         Comedy|Drama|Romance  \n4                                       Comedy  ",
      "text/html": "<div>\n<style scoped>\n    .dataframe tbody tr th:only-of-type {\n        vertical-align: middle;\n    }\n\n    .dataframe tbody tr th {\n        vertical-align: top;\n    }\n\n    .dataframe thead th {\n        text-align: right;\n    }\n</style>\n<table border=\"1\" class=\"dataframe\">\n  <thead>\n    <tr style=\"text-align: right;\">\n      <th></th>\n      <th>movieId</th>\n      <th>title</th>\n      <th>genres</th>\n    </tr>\n  </thead>\n  <tbody>\n    <tr>\n      <th>0</th>\n      <td>1</td>\n      <td>Toy Story (1995)</td>\n      <td>Adventure|Animation|Children|Comedy|Fantasy</td>\n    </tr>\n    <tr>\n      <th>1</th>\n      <td>2</td>\n      <td>Jumanji (1995)</td>\n      <td>Adventure|Children|Fantasy</td>\n    </tr>\n    <tr>\n      <th>2</th>\n      <td>3</td>\n      <td>Grumpier Old Men (1995)</td>\n      <td>Comedy|Romance</td>\n    </tr>\n    <tr>\n      <th>3</th>\n      <td>4</td>\n      <td>Waiting to Exhale (1995)</td>\n      <td>Comedy|Drama|Romance</td>\n    </tr>\n    <tr>\n      <th>4</th>\n      <td>5</td>\n      <td>Father of the Bride Part II (1995)</td>\n      <td>Comedy</td>\n    </tr>\n  </tbody>\n</table>\n</div>"
     },
     "execution_count": 819,
     "metadata": {},
     "output_type": "execute_result"
    }
   ],
   "source": [
    "movies.head()"
   ],
   "metadata": {
    "collapsed": false,
    "pycharm": {
     "name": "#%%\n"
    }
   }
  },
  {
   "cell_type": "code",
   "execution_count": 820,
   "outputs": [],
   "source": [
    "import re\n",
    "\n",
    "def clean_text(text: str, re_pattern: str =\"[^a-zA-Z0-9 ]\", replace_string=\"\") -> str:\n",
    "    \"\"\"\n",
    "    This method is used to replace the given regular expression pattern with the replace_string\n",
    "    :param text: the input text\n",
    "    :param re_pattern: regular expression pattern\n",
    "    :param replace_string: string to be used for replacement\n",
    "    :return: text after replacement\n",
    "    \"\"\"\n",
    "    text = re.sub(re_pattern, replace_string, text)\n",
    "    return text"
   ],
   "metadata": {
    "collapsed": false,
    "pycharm": {
     "name": "#%%\n"
    }
   }
  },
  {
   "cell_type": "code",
   "execution_count": 821,
   "outputs": [],
   "source": [
    "def find_match(text: str, re_pattern: str) -> Union[str, None]:\n",
    "    \"\"\"\n",
    "    This method is used to find the substring that matches the given regular expression pattern\n",
    "    :param text: input text\n",
    "    :param re_pattern: regular expression pattern\n",
    "    :return: The substring or None\n",
    "    \"\"\"\n",
    "    match = re.search(re_pattern, text)\n",
    "    if match:\n",
    "        return match.group(1)\n",
    "    else:\n",
    "        return None"
   ],
   "metadata": {
    "collapsed": false,
    "pycharm": {
     "name": "#%%\n"
    }
   }
  },
  {
   "cell_type": "code",
   "execution_count": 822,
   "outputs": [],
   "source": [
    "def concatenate_columns(df: pd.DataFrame, cols_list: list) -> pd.Series:\n",
    "    \"\"\"\n",
    "    This method is used to concatenate the values in multiple columns into a new column\n",
    "    :param df: input dataframe\n",
    "    :param cols_list: list of columns to be concatenated\n",
    "    :return: the new column with concatenated values (pandas series)\n",
    "    \"\"\"\n",
    "    return df[cols_list].apply(lambda row: ' '.join(row.values.astype(str)), axis=1)"
   ],
   "metadata": {
    "collapsed": false,
    "pycharm": {
     "name": "#%%\n"
    }
   }
  },
  {
   "cell_type": "code",
   "execution_count": 823,
   "outputs": [],
   "source": [
    "def clean_title(text: str, re_pattern: str) -> str:\n",
    "    \"\"\"\n",
    "    This method is used to clean the input text by replacing the regular expression with empty string\n",
    "    and removing unnecessary spaces\n",
    "    :param text: input text\n",
    "    :param re_pattern: regular expression\n",
    "    :return: cleaned text\n",
    "    \"\"\"\n",
    "    text = clean_text(text=text, re_pattern=re_pattern)\n",
    "    text = text.strip()\n",
    "    return text"
   ],
   "metadata": {
    "collapsed": false,
    "pycharm": {
     "name": "#%%\n"
    }
   }
  },
  {
   "cell_type": "code",
   "execution_count": 824,
   "outputs": [],
   "source": [
    "def find_movie(title: str, year: Union[str, int]) -> pd.DataFrame:\n",
    "    \"\"\"\n",
    "    This method is used to find a movie record in the movies dataset based on the given movie title and year values\n",
    "    :param title: movie title\n",
    "    :param year: year\n",
    "    :return: the identified movie record\n",
    "    \"\"\"\n",
    "    title = title.lower()\n",
    "    year = str(year)\n",
    "    movies_copy = movies.copy()\n",
    "    movies_copy[\"title\"] = movies_copy[\"title\"].apply(lambda text: text.lower())\n",
    "    movie_record = movies_copy[\n",
    "        (movies_copy['title'] == title) &\n",
    "        (movies_copy['year'] == year)\n",
    "        ]\n",
    "    return movie_record"
   ],
   "metadata": {
    "collapsed": false,
    "pycharm": {
     "name": "#%%\n"
    }
   }
  },
  {
   "cell_type": "code",
   "execution_count": 825,
   "outputs": [
    {
     "data": {
      "text/plain": "   movieId                        title  \\\n0        1                    Toy Story   \n1        2                      Jumanji   \n2        3             Grumpier Old Men   \n3        4            Waiting to Exhale   \n4        5  Father of the Bride Part II   \n\n                                        genres  year  \n0  Adventure Animation Children Comedy Fantasy  1995  \n1                   Adventure Children Fantasy  1995  \n2                               Comedy Romance  1995  \n3                         Comedy Drama Romance  1995  \n4                                       Comedy  1995  ",
      "text/html": "<div>\n<style scoped>\n    .dataframe tbody tr th:only-of-type {\n        vertical-align: middle;\n    }\n\n    .dataframe tbody tr th {\n        vertical-align: top;\n    }\n\n    .dataframe thead th {\n        text-align: right;\n    }\n</style>\n<table border=\"1\" class=\"dataframe\">\n  <thead>\n    <tr style=\"text-align: right;\">\n      <th></th>\n      <th>movieId</th>\n      <th>title</th>\n      <th>genres</th>\n      <th>year</th>\n    </tr>\n  </thead>\n  <tbody>\n    <tr>\n      <th>0</th>\n      <td>1</td>\n      <td>Toy Story</td>\n      <td>Adventure Animation Children Comedy Fantasy</td>\n      <td>1995</td>\n    </tr>\n    <tr>\n      <th>1</th>\n      <td>2</td>\n      <td>Jumanji</td>\n      <td>Adventure Children Fantasy</td>\n      <td>1995</td>\n    </tr>\n    <tr>\n      <th>2</th>\n      <td>3</td>\n      <td>Grumpier Old Men</td>\n      <td>Comedy Romance</td>\n      <td>1995</td>\n    </tr>\n    <tr>\n      <th>3</th>\n      <td>4</td>\n      <td>Waiting to Exhale</td>\n      <td>Comedy Drama Romance</td>\n      <td>1995</td>\n    </tr>\n    <tr>\n      <th>4</th>\n      <td>5</td>\n      <td>Father of the Bride Part II</td>\n      <td>Comedy</td>\n      <td>1995</td>\n    </tr>\n  </tbody>\n</table>\n</div>"
     },
     "execution_count": 825,
     "metadata": {},
     "output_type": "execute_result"
    }
   ],
   "source": [
    "movies[\"genres\"] = movies[\"genres\"].apply(lambda text: clean_text(text=text, replace_string=\" \"))\n",
    "\n",
    "year_re_pattern = r'\\((\\d{4})\\)'\n",
    "\n",
    "movies[\"year\"] = movies[\"title\"].apply(lambda text: find_match(text=text, re_pattern=year_re_pattern))\n",
    "\n",
    "movies[\"title\"] = movies[\"title\"].apply(lambda text: clean_title(text=text, re_pattern=year_re_pattern))\n",
    "\n",
    "movies.head()"
   ],
   "metadata": {
    "collapsed": false,
    "pycharm": {
     "name": "#%%\n"
    }
   }
  },
  {
   "cell_type": "code",
   "execution_count": 826,
   "outputs": [],
   "source": [
    "def content_based_filtering(title: str) -> pd.DataFrame:\n",
    "    \"\"\"\n",
    "    This method is used to perform content based filtering on the movies dataset to find 10 movies\n",
    "    that are similar to the input movie\n",
    "    :param title: movie title\n",
    "    :return:\n",
    "    \"\"\"\n",
    "\n",
    "    # concatenate title and genres into a single column for better results\n",
    "    movies[\"title_genres\"] = concatenate_columns(movies, [\"title\", \"genres\"])\n",
    "\n",
    "    # Initialize TfidfVectorizer\n",
    "    vectorizer = TfidfVectorizer(ngram_range=(1, 2))\n",
    "    tfidf = vectorizer.fit_transform(movies[\"title_genres\"])\n",
    "\n",
    "    title = clean_text(title)\n",
    "    query_vector = vectorizer.transform([title])\n",
    "    similarity = cosine_similarity(query_vector, tfidf).flatten()\n",
    "    indices = np.argpartition(similarity, -10)[-10: ]\n",
    "    result = movies.iloc[indices].iloc[::-1]\n",
    "    return result"
   ],
   "metadata": {
    "collapsed": false,
    "pycharm": {
     "name": "#%%\n"
    }
   }
  },
  {
   "cell_type": "code",
   "execution_count": 827,
   "outputs": [],
   "source": [
    "def collaborative_filtering(title: str, year: Union[int, str]) -> pd.DataFrame:\n",
    "    \"\"\"\n",
    "    This method is used to perform collaborative filtering on the movies and ratings dataset\n",
    "    to find 10 movies that are similar to the given movie\n",
    "    :param title: movie title\n",
    "    :param year: movie release year\n",
    "    :return: dataframe with 10 recommended movies\n",
    "    \"\"\"\n",
    "    good_rating_threshold = 2.5\n",
    "    movies_liked_by_similar_users_percentage = 0.2\n",
    "    movie_record = find_movie(title, year)\n",
    "    movie_id = movie_record[\"movieId\"].iloc[0]\n",
    "\n",
    "    # Find the other users who liked the given movie. Call them similar_users\n",
    "    similar_users = ratings[\n",
    "        (ratings[\"movieId\"] == movie_id) &\n",
    "        (ratings['rating']> good_rating_threshold)\n",
    "    ][\"userId\"].unique()\n",
    "\n",
    "    # Find the other movies liked by similar_users - call them similar_users_records\n",
    "    similar_users_records = ratings[\n",
    "        (ratings[\"userId\"].isin(similar_users)) &\n",
    "        (ratings[\"rating\"] > good_rating_threshold)\n",
    "    ][\"movieId\"]\n",
    "    \n",
    "    # Calculate the percentage of how many users in similar_users liked each movie\n",
    "    # Get the number of users liked each movie.\n",
    "    # Divide the number by the number of users.\n",
    "    similar_users_records = similar_users_records.value_counts() / len(similar_users)\n",
    "\n",
    "    # Find the movies liked by more than 10 percentage of the similar users\n",
    "    similar_users_records = similar_users_records[similar_users_records > movies_liked_by_similar_users_percentage]\n",
    "\n",
    "    # Find the other users who liked the movies that are liked by similar_users - call them all_users\n",
    "    all_users = ratings[\n",
    "        (ratings[\"movieId\"].isin(similar_users_records.index)) &\n",
    "        (ratings[\"rating\"] > good_rating_threshold)\n",
    "    ]\n",
    "\n",
    "    # Calculate the percentage of how many users in the whole dataset liked each movie\n",
    "    all_users_records = all_users[\"movieId\"].value_counts() / len(all_users[\"userId\"].unique())\n",
    "\n",
    "    records_percentages = pd.concat([similar_users_records, all_users_records], axis=1)\n",
    "\n",
    "    records_percentages.columns = [\"similar\", \"all\"]\n",
    "\n",
    "    records_percentages[\"score\"] = records_percentages[\"similar\"]/records_percentages[\"all\"]\n",
    "\n",
    "    records_percentages = records_percentages.sort_values(\"score\", ascending=False)\n",
    "\n",
    "    recommendations = records_percentages.head(10).merge(movies, left_index=True, right_on=\"movieId\")\n",
    "\n",
    "    recommendations = recommendations.loc[:, [\"title\", \"year\", \"genres\"]]\n",
    "    return recommendations"
   ],
   "metadata": {
    "collapsed": false,
    "pycharm": {
     "name": "#%%\n"
    }
   }
  },
  {
   "cell_type": "code",
   "execution_count": 828,
   "outputs": [
    {
     "data": {
      "text/plain": "                                       title  year  \\\n11760                               Superbad  2007   \n12579                      Pineapple Express  2008   \n12548                          Step Brothers  2008   \n11594                             Knocked Up  2007   \n12279              Forgetting Sarah Marshall  2008   \n12593                         Tropic Thunder  2008   \n7930   Anchorman: The Legend of Ron Burgundy  2004   \n17911                         21 Jump Street  2012   \n6077                              Old School  2003   \n7848        Dodgeball: A True Underdog Story  2004   \n\n                            genres  \n11760                       Comedy  \n12579          Action Comedy Crime  \n12548                       Comedy  \n11594         Comedy Drama Romance  \n12279               Comedy Romance  \n12593  Action Adventure Comedy War  \n7930                        Comedy  \n17911          Action Comedy Crime  \n6077                        Comedy  \n7848                        Comedy  ",
      "text/html": "<div>\n<style scoped>\n    .dataframe tbody tr th:only-of-type {\n        vertical-align: middle;\n    }\n\n    .dataframe tbody tr th {\n        vertical-align: top;\n    }\n\n    .dataframe thead th {\n        text-align: right;\n    }\n</style>\n<table border=\"1\" class=\"dataframe\">\n  <thead>\n    <tr style=\"text-align: right;\">\n      <th></th>\n      <th>title</th>\n      <th>year</th>\n      <th>genres</th>\n    </tr>\n  </thead>\n  <tbody>\n    <tr>\n      <th>11760</th>\n      <td>Superbad</td>\n      <td>2007</td>\n      <td>Comedy</td>\n    </tr>\n    <tr>\n      <th>12579</th>\n      <td>Pineapple Express</td>\n      <td>2008</td>\n      <td>Action Comedy Crime</td>\n    </tr>\n    <tr>\n      <th>12548</th>\n      <td>Step Brothers</td>\n      <td>2008</td>\n      <td>Comedy</td>\n    </tr>\n    <tr>\n      <th>11594</th>\n      <td>Knocked Up</td>\n      <td>2007</td>\n      <td>Comedy Drama Romance</td>\n    </tr>\n    <tr>\n      <th>12279</th>\n      <td>Forgetting Sarah Marshall</td>\n      <td>2008</td>\n      <td>Comedy Romance</td>\n    </tr>\n    <tr>\n      <th>12593</th>\n      <td>Tropic Thunder</td>\n      <td>2008</td>\n      <td>Action Adventure Comedy War</td>\n    </tr>\n    <tr>\n      <th>7930</th>\n      <td>Anchorman: The Legend of Ron Burgundy</td>\n      <td>2004</td>\n      <td>Comedy</td>\n    </tr>\n    <tr>\n      <th>17911</th>\n      <td>21 Jump Street</td>\n      <td>2012</td>\n      <td>Action Comedy Crime</td>\n    </tr>\n    <tr>\n      <th>6077</th>\n      <td>Old School</td>\n      <td>2003</td>\n      <td>Comedy</td>\n    </tr>\n    <tr>\n      <th>7848</th>\n      <td>Dodgeball: A True Underdog Story</td>\n      <td>2004</td>\n      <td>Comedy</td>\n    </tr>\n  </tbody>\n</table>\n</div>"
     },
     "execution_count": 828,
     "metadata": {},
     "output_type": "execute_result"
    }
   ],
   "source": [
    "collaborative_filtering(\"superbad\", 2007)"
   ],
   "metadata": {
    "collapsed": false,
    "pycharm": {
     "name": "#%%\n"
    }
   }
  },
  {
   "cell_type": "code",
   "execution_count": 829,
   "outputs": [
    {
     "name": "stdout",
     "output_type": "stream",
     "text": [
      "<class 'pandas.core.frame.DataFrame'>\n"
     ]
    },
    {
     "data": {
      "text/plain": "       movieId                                        title  \\\n46572   171559                                     Superbad   \n28846   132298                                 The Outsider   \n28845   132296                                 The Outsider   \n11760    54503                                     Superbad   \n28844   132294                                  Watchers II   \n28847   132300                                The Strangler   \n28842   132290                                 The Outsider   \n28841   132288                            The Maltese Bippy   \n28843   132292                                 The Outsider   \n86536   288983  UNZIPPED: An Autopsy of American Inequality   \n\n                   genres  year  \\\n46572              Comedy  2016   \n28846   no genres listed   2005   \n28845               Drama  1981   \n11760              Comedy  2007   \n28844       Horror Sci Fi  1990   \n28847               Drama  1972   \n28842           Drama War  1961   \n28841   no genres listed   1969   \n28843               Drama  1980   \n86536         Documentary  2021   \n\n                                            title_genres  \n46572                                    Superbad Comedy  \n28846                    The Outsider  no genres listed   \n28845                                 The Outsider Drama  \n11760                                    Superbad Comedy  \n28844                          Watchers II Horror Sci Fi  \n28847                                The Strangler Drama  \n28842                             The Outsider Drama War  \n28841               The Maltese Bippy  no genres listed   \n28843                                 The Outsider Drama  \n86536  UNZIPPED: An Autopsy of American Inequality Do...  ",
      "text/html": "<div>\n<style scoped>\n    .dataframe tbody tr th:only-of-type {\n        vertical-align: middle;\n    }\n\n    .dataframe tbody tr th {\n        vertical-align: top;\n    }\n\n    .dataframe thead th {\n        text-align: right;\n    }\n</style>\n<table border=\"1\" class=\"dataframe\">\n  <thead>\n    <tr style=\"text-align: right;\">\n      <th></th>\n      <th>movieId</th>\n      <th>title</th>\n      <th>genres</th>\n      <th>year</th>\n      <th>title_genres</th>\n    </tr>\n  </thead>\n  <tbody>\n    <tr>\n      <th>46572</th>\n      <td>171559</td>\n      <td>Superbad</td>\n      <td>Comedy</td>\n      <td>2016</td>\n      <td>Superbad Comedy</td>\n    </tr>\n    <tr>\n      <th>28846</th>\n      <td>132298</td>\n      <td>The Outsider</td>\n      <td>no genres listed</td>\n      <td>2005</td>\n      <td>The Outsider  no genres listed</td>\n    </tr>\n    <tr>\n      <th>28845</th>\n      <td>132296</td>\n      <td>The Outsider</td>\n      <td>Drama</td>\n      <td>1981</td>\n      <td>The Outsider Drama</td>\n    </tr>\n    <tr>\n      <th>11760</th>\n      <td>54503</td>\n      <td>Superbad</td>\n      <td>Comedy</td>\n      <td>2007</td>\n      <td>Superbad Comedy</td>\n    </tr>\n    <tr>\n      <th>28844</th>\n      <td>132294</td>\n      <td>Watchers II</td>\n      <td>Horror Sci Fi</td>\n      <td>1990</td>\n      <td>Watchers II Horror Sci Fi</td>\n    </tr>\n    <tr>\n      <th>28847</th>\n      <td>132300</td>\n      <td>The Strangler</td>\n      <td>Drama</td>\n      <td>1972</td>\n      <td>The Strangler Drama</td>\n    </tr>\n    <tr>\n      <th>28842</th>\n      <td>132290</td>\n      <td>The Outsider</td>\n      <td>Drama War</td>\n      <td>1961</td>\n      <td>The Outsider Drama War</td>\n    </tr>\n    <tr>\n      <th>28841</th>\n      <td>132288</td>\n      <td>The Maltese Bippy</td>\n      <td>no genres listed</td>\n      <td>1969</td>\n      <td>The Maltese Bippy  no genres listed</td>\n    </tr>\n    <tr>\n      <th>28843</th>\n      <td>132292</td>\n      <td>The Outsider</td>\n      <td>Drama</td>\n      <td>1980</td>\n      <td>The Outsider Drama</td>\n    </tr>\n    <tr>\n      <th>86536</th>\n      <td>288983</td>\n      <td>UNZIPPED: An Autopsy of American Inequality</td>\n      <td>Documentary</td>\n      <td>2021</td>\n      <td>UNZIPPED: An Autopsy of American Inequality Do...</td>\n    </tr>\n  </tbody>\n</table>\n</div>"
     },
     "execution_count": 829,
     "metadata": {},
     "output_type": "execute_result"
    }
   ],
   "source": [
    "content_based_filtering(\"superbad\")"
   ],
   "metadata": {
    "collapsed": false,
    "pycharm": {
     "name": "#%%\n"
    }
   }
  }
 ],
 "metadata": {
  "kernelspec": {
   "display_name": "Python 3",
   "language": "python",
   "name": "python3"
  },
  "language_info": {
   "codemirror_mode": {
    "name": "ipython",
    "version": 2
   },
   "file_extension": ".py",
   "mimetype": "text/x-python",
   "name": "python",
   "nbconvert_exporter": "python",
   "pygments_lexer": "ipython2",
   "version": "2.7.6"
  }
 },
 "nbformat": 4,
 "nbformat_minor": 0
}